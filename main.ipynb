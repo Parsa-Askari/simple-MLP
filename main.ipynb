version https://git-lfs.github.com/spec/v1
oid sha256:b9776d0e7642daa9c38144adb9c72952c79c29442cf422f743edeb78f1a77cf8
size 2667
