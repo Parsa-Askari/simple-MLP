version https://git-lfs.github.com/spec/v1
oid sha256:8ec5aedbed5bf02959c94be13e5e33c0a46abdc8ff4daf50ea58b27a51085437
size 10721
